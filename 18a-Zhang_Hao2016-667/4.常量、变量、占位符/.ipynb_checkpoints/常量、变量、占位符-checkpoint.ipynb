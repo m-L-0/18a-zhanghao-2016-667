{
 "cells": [
  {
   "cell_type": "code",
   "execution_count": 1,
   "metadata": {},
   "outputs": [],
   "source": [
    "import tensorflow as tf\n",
    "x = tf.placeholder(dtype=tf.int32, shape=[])\n",
    "y = tf.placeholder(dtype=tf.int32, shape=[])\n",
    "a = tf.Variable(1)\n",
    "b = tf.Variable(1)\n",
    "c = tf.Variable(1)\n",
    "d = tf.Variable(1)\n",
    "z = a + tf.multiply(b, x) + tf.multiply(c, y) + d"
   ]
  },
  {
   "cell_type": "code",
   "execution_count": 2,
   "metadata": {},
   "outputs": [],
   "source": [
    "temp1 = tf.placeholder(dtype=tf.int32, shape=[])\n",
    "temp2 = tf.square(tf.subtract(temp1, z))"
   ]
  },
  {
   "cell_type": "code",
   "execution_count": null,
   "metadata": {},
   "outputs": [],
   "source": []
  }
 ],
 "metadata": {
  "kernelspec": {
   "display_name": "Python 3",
   "language": "python",
   "name": "python3"
  },
  "language_info": {
   "codemirror_mode": {
    "name": "ipython",
    "version": 3
   },
   "file_extension": ".py",
   "mimetype": "text/x-python",
   "name": "python",
   "nbconvert_exporter": "python",
   "pygments_lexer": "ipython3",
   "version": "3.6.7"
  }
 },
 "nbformat": 4,
 "nbformat_minor": 2
}
