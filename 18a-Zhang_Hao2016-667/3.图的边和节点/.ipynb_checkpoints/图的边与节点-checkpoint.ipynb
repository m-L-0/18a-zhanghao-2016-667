{
 "cells": [
  {
   "cell_type": "code",
   "execution_count": null,
   "metadata": {},
   "outputs": [],
   "source": [
    "#1利用索引取出第2张图片\n",
    "import tensorflow as tf\n",
    "img[1][0:28][0:28][0:3]\n",
    "\n",
    "#2 利用切片取出第2张图片\n",
    "tf.slice(img,[1,0,0,0],[1,28,28,31])\n",
    "\n",
    "#3利用切片和索引取出的图片有何不同\n",
    "索引会改变为度，切片不会\n",
    "\n",
    "#4取出第1、3、5、7张图片\n",
    "tf.strided_slice(img,[0],[7],[2])\n",
    "\n",
    "#5取出第6-8张（包括6不包括8）中心的（14*14）\n",
    "tf.strided_slice(img,[1,1,1],3)\n",
    "\n",
    "#6将图片根据通道拆分成三份单通道图片\n",
    "img1 = tf.slice(img,[0,0,0,0],[10,28,28,0])\n",
    "img2 = tf.slice(img,[0,0,0,1],[10,28,28,1])\n",
    "img3 = tf.slice(img,[0,0,0,2],[10,28,28,2])\n",
    "\n",
    "#7 tf.shape(img）返回的张量的阶数以及shape属性的值\n",
    "1\n",
    "[10 29 29 3]"
   ]
  }
 ],
 "metadata": {
  "kernelspec": {
   "display_name": "Python 3",
   "language": "python",
   "name": "python3"
  },
  "language_info": {
   "codemirror_mode": {
    "name": "ipython",
    "version": 3
   },
   "file_extension": ".py",
   "mimetype": "text/x-python",
   "name": "python",
   "nbconvert_exporter": "python",
   "pygments_lexer": "ipython3",
   "version": "3.6.7"
  }
 },
 "nbformat": 4,
 "nbformat_minor": 2
}
