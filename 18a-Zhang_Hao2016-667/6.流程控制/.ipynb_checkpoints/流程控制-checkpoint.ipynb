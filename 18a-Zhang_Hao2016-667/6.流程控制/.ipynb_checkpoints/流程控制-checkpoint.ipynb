{
 "cells": [
  {
   "cell_type": "code",
   "execution_count": 1,
   "metadata": {},
   "outputs": [],
   "source": [
    "import tensorflow as tf\n",
    "\n",
    "tensor1 = tf.placeholder(dtype=tf.float32, shape=[])\n",
    "tensor2 = tf.placeholder(dtype=tf.float32, shape=[])\n",
    "rt = tf.Variable(tf.constant([]))\n",
    "\n",
    "sess = tf.InteractiveSession()"
   ]
  },
  {
   "cell_type": "code",
   "execution_count": 2,
   "metadata": {},
   "outputs": [
    {
     "ename": "SyntaxError",
     "evalue": "invalid syntax (<ipython-input-2-e07affa0cbfc>, line 6)",
     "output_type": "error",
     "traceback": [
      "\u001b[0;36m  File \u001b[0;32m\"<ipython-input-2-e07affa0cbfc>\"\u001b[0;36m, line \u001b[0;32m6\u001b[0m\n\u001b[0;31m    def ture_fn(tensor1[i] > tensor2[i]): //比较两个张量大小\u001b[0m\n\u001b[0m                       ^\u001b[0m\n\u001b[0;31mSyntaxError\u001b[0m\u001b[0;31m:\u001b[0m invalid syntax\n"
     ]
    }
   ],
   "source": [
    "i = 0;\n",
    "n = len(tensor1.eval())\n",
    "\n",
    "cond = tf.Variable()\n",
    "\n",
    "def ture_fn(tensor1[i] > tensor2[i]): //比较两个张量大小\n",
    "    return rt.append(tensor1[i]) //将大的放入\n",
    "def false_fn():\n",
    "    return rt.append(tensor2[i]) //将大的或等的放入\n",
    "\n",
    "result = tf.cond(cond, true_fn, true_fn)"
   ]
  },
  {
   "cell_type": "markdown",
   "metadata": {},
   "source": [
    "不知道如何解决。。"
   ]
  },
  {
   "cell_type": "code",
   "execution_count": null,
   "metadata": {},
   "outputs": [],
   "source": [
    "def cond(i, n):\n",
    "    return i < n\n",
    "def body(i, n):\n",
    "    sess.run(result)\n",
    "    return i, n\n",
    "result_i, result_n = tf.while_loop(cond, body, [tensor1, tensor2])"
   ]
  },
  {
   "cell_type": "code",
   "execution_count": null,
   "metadata": {},
   "outputs": [],
   "source": []
  },
  {
   "cell_type": "code",
   "execution_count": null,
   "metadata": {},
   "outputs": [],
   "source": []
  }
 ],
 "metadata": {
  "kernelspec": {
   "display_name": "Python 3",
   "language": "python",
   "name": "python3"
  },
  "language_info": {
   "codemirror_mode": {
    "name": "ipython",
    "version": 3
   },
   "file_extension": ".py",
   "mimetype": "text/x-python",
   "name": "python",
   "nbconvert_exporter": "python",
   "pygments_lexer": "ipython3",
   "version": "3.6.7"
  }
 },
 "nbformat": 4,
 "nbformat_minor": 2
}
