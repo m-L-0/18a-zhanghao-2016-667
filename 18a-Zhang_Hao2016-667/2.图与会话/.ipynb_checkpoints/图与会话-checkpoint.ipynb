{
 "cells": [
  {
   "cell_type": "code",
   "execution_count": 1,
   "metadata": {},
   "outputs": [
    {
     "name": "stdout",
     "output_type": "stream",
     "text": [
      "15\n",
      "15\n"
     ]
    }
   ],
   "source": [
    "import tensorflow as tf\n",
    "\n",
    "# 创建图\n",
    "a = tf.add(5,10)\n",
    "\n",
    "#创建会话1\n",
    "sess1 = tf.Session()\n",
    "\n",
    "#执行会话1\n",
    "res1 = sess1.run(a)\n",
    "\n",
    "#输出a\n",
    "print(res1)\n",
    "\n",
    "#使用上下文管理器\n",
    "with tf.Session() as sess2:\n",
    "\tprint(sess2.run(a))"
   ]
  },
  {
   "cell_type": "code",
   "execution_count": 2,
   "metadata": {},
   "outputs": [
    {
     "name": "stdout",
     "output_type": "stream",
     "text": [
      "[8, 2, 15, 2, 1, 9, 25, 3.0, 0.84147096, 0.5403023, 3, 5]\n"
     ]
    }
   ],
   "source": [
    "#演示\n",
    "with tf.Graph().as_default() as g2:\n",
    "    a = tf.add(5,3)  #和\n",
    "    b = tf.subtract(5,3)  #差\n",
    "    c = tf.multiply(5,3)  #积\n",
    "    d = tf.div(6,3)  #商\n",
    "    e = tf.mod(7,2)  #取模\n",
    "    f = tf.pow(3,2)  #x的y次方\n",
    "    g = tf.square(5)  #平方\n",
    "    h = tf.sqrt(9.0)  #开放\n",
    "    i = tf.sin(1.0)  #sin值 \n",
    "    j = tf.cos(1.0)  #cos值\n",
    "    k = tf.minimum(3,5)  #i.e. x > y ? x : y\n",
    "    l = tf.maximum(3,5)  #i.e. x < y ? x : y\n",
    "\n",
    "with tf.Session(graph=g2) as sess:\n",
    "    print(sess.run([a,b,c,d,e,f,g,h,i,j,k,l]))"
   ]
  },
  {
   "cell_type": "code",
   "execution_count": null,
   "metadata": {},
   "outputs": [],
   "source": []
  }
 ],
 "metadata": {
  "kernelspec": {
   "display_name": "Python 3",
   "language": "python",
   "name": "python3"
  },
  "language_info": {
   "codemirror_mode": {
    "name": "ipython",
    "version": 3
   },
   "file_extension": ".py",
   "mimetype": "text/x-python",
   "name": "python",
   "nbconvert_exporter": "python",
   "pygments_lexer": "ipython3",
   "version": "3.6.7"
  }
 },
 "nbformat": 4,
 "nbformat_minor": 2
}
